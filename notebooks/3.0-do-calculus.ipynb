{
 "cells": [
  {
   "cell_type": "code",
   "execution_count": 5,
   "metadata": {},
   "outputs": [],
   "source": [
    "import random\n",
    "import warnings\n",
    "import numpy as np\n",
    "import pandas as pd\n",
    "from sklearn.datasets import load_breast_cancer\n",
    "from sklearn.model_selection import train_test_split\n",
    "from sklearn.preprocessing import StandardScaler\n",
    "from sklearn.linear_model import LogisticRegression\n",
    "from sklearn.pipeline import make_pipeline\n",
    "\n",
    "warnings.filterwarnings(\"ignore\")\n",
    "from pathlib import Path\n",
    "from do import API, Expression, Intervention, Outcome"
   ]
  },
  {
   "cell_type": "code",
   "execution_count": 8,
   "metadata": {},
   "outputs": [],
   "source": [
    "api = API()\n",
    "\n",
    "file = Path(\"../src/pearl-3.4.yml\")\n",
    "model = api.instantiate_model(file)\n",
    "\n",
    "xj = Outcome(\"Xj\", \"xj\")\n",
    "xi = Intervention(\"Xi\", \"xi\")\n",
    "e = Expression(xj, [xi])\n",
    "\n",
    "# basic inference won't work!\n",
    "try:\n",
    "    api.probability(e, model)\n",
    "    print(\"This cannot happen!\")\n",
    "\n",
    "except Exception:\n",
    "    e2 = Expression(xj)\n",
    "    result = api.treat(e2, [xi], model)\n",
    "    print(result)"
   ]
  }
 ],
 "metadata": {
  "kernelspec": {
   "display_name": "xai2",
   "language": "python",
   "name": "python3"
  },
  "language_info": {
   "codemirror_mode": {
    "name": "ipython",
    "version": 3
   },
   "file_extension": ".py",
   "mimetype": "text/x-python",
   "name": "python",
   "nbconvert_exporter": "python",
   "pygments_lexer": "ipython3",
   "version": "3.9.18"
  }
 },
 "nbformat": 4,
 "nbformat_minor": 2
}
