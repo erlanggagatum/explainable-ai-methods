{
 "cells": [
  {
   "cell_type": "code",
   "execution_count": 1,
   "metadata": {},
   "outputs": [],
   "source": [
    "\n",
    "import random\n",
    "import warnings\n",
    "import numpy as np\n",
    "import pandas as pd\n",
    "from sklearn.datasets import load_breast_cancer\n",
    "from sklearn.model_selection import train_test_split\n",
    "from sklearn.preprocessing import StandardScaler\n",
    "from sklearn.linear_model import LogisticRegression\n",
    "from sklearn.pipeline import make_pipeline\n",
    "import itertools\n",
    "from itertools import combinations, permutations, chain\n",
    "\n",
    "\n",
    "warnings.filterwarnings(\"ignore\")\n",
    "import networkx as nx\n",
    "import matplotlib.pyplot as plt\n",
    "import json\n",
    "\n",
    "from pgmpy.models import BayesianNetwork\n",
    "from pgmpy.inference import VariableElimination\n",
    "from pgmpy.factors.discrete.CPD import TabularCPD"
   ]
  },
  {
   "cell_type": "markdown",
   "metadata": {},
   "source": [
    "# Asia Network"
   ]
  },
  {
   "cell_type": "code",
   "execution_count": 2,
   "metadata": {},
   "outputs": [],
   "source": [
    "def is_valid_subset(G, subset):\n",
    "    \"\"\"\n",
    "    Checks if a subset of nodes is valid under do-intervention rules.\n",
    "    Each node in the subset must include all its predecessors from the graph.\n",
    "    \"\"\"\n",
    "    # check whether the input subset is valid (must have a route to y)\n",
    "    subG = G.subgraph(subset).copy()\n",
    "    \n",
    "    if not nx.is_connected(subG.to_undirected()):\n",
    "        return False\n",
    "\n",
    "    for node in subset:\n",
    "        parents = set(G.predecessors(node))\n",
    "        parents_included = parents.intersection(subset)\n",
    "        if len(parents_included) != 0:\n",
    "            if len(parents_included) < len(parents):\n",
    "                return False\n",
    "    return True"
   ]
  },
  {
   "cell_type": "code",
   "execution_count": 3,
   "metadata": {},
   "outputs": [
    {
     "data": {
      "text/plain": [
       "[<TabularCPD representing P(asia:2) at 0x14fd070d520>,\n",
       " <TabularCPD representing P(tub:2 | asia:2) at 0x14fd070d550>,\n",
       " <TabularCPD representing P(smoke:2) at 0x14fd070d2e0>,\n",
       " <TabularCPD representing P(lung:2 | smoke:2) at 0x14fd070d430>,\n",
       " <TabularCPD representing P(bronc:2 | smoke:2) at 0x14fd070d310>,\n",
       " <TabularCPD representing P(either:2 | lung:2, tub:2) at 0x14fd070d3a0>,\n",
       " <TabularCPD representing P(xray:2 | either:2) at 0x14fd070d4c0>,\n",
       " <TabularCPD representing P(dysp:2 | bronc:2, either:2) at 0x14fd070d5b0>]"
      ]
     },
     "execution_count": 3,
     "metadata": {},
     "output_type": "execute_result"
    }
   ],
   "source": [
    "G = nx.DiGraph()\n",
    "\n",
    "G.add_nodes_from([\"asia\", \"smoke\", \"tub\", \"lung\", \"bronc\", \"either\", \"xray\", \"dysp\"])\n",
    "edges = [\n",
    "    # tuple of direction (from, to)\n",
    "    (\"asia\", \"tub\"),\n",
    "    (\"smoke\", \"lung\"),\n",
    "    (\"smoke\", \"bronc\"),\n",
    "    (\"tub\", \"either\"),\n",
    "    (\"lung\", \"either\"),\n",
    "    (\"either\", \"xray\"),\n",
    "    (\"either\", \"dysp\"),\n",
    "    (\"bronc\", \"dysp\"),\n",
    "]\n",
    "G.add_edges_from(edges)\n",
    "\n",
    "# initiate BN\n",
    "dataset = pd.read_csv('../data/asia10K.csv')\n",
    "asia_bn = BayesianNetwork(edges)\n",
    "asia_bn.fit(dataset)\n",
    "asia_bn.get_cpds()"
   ]
  },
  {
   "cell_type": "code",
   "execution_count": 4,
   "metadata": {},
   "outputs": [
    {
     "data": {
      "text/plain": [
       "[{'lung', 'smoke'},\n",
       " {'either', 'lung', 'tub'},\n",
       " {'bronc', 'lung', 'smoke'},\n",
       " {'either', 'lung', 'tub', 'xray'},\n",
       " {'asia', 'either', 'lung', 'tub'},\n",
       " {'either', 'lung', 'smoke', 'tub'},\n",
       " {'asia', 'either', 'lung', 'tub', 'xray'},\n",
       " {'either', 'lung', 'smoke', 'tub', 'xray'},\n",
       " {'asia', 'either', 'lung', 'smoke', 'tub'},\n",
       " {'bronc', 'dysp', 'either', 'lung', 'tub'},\n",
       " {'bronc', 'either', 'lung', 'smoke', 'tub'},\n",
       " {'asia', 'either', 'lung', 'smoke', 'tub', 'xray'},\n",
       " {'bronc', 'dysp', 'either', 'lung', 'tub', 'xray'},\n",
       " {'bronc', 'either', 'lung', 'smoke', 'tub', 'xray'},\n",
       " {'asia', 'bronc', 'dysp', 'either', 'lung', 'tub'},\n",
       " {'asia', 'bronc', 'either', 'lung', 'smoke', 'tub'},\n",
       " {'bronc', 'dysp', 'either', 'lung', 'smoke', 'tub'},\n",
       " {'asia', 'bronc', 'dysp', 'either', 'lung', 'tub', 'xray'},\n",
       " {'asia', 'bronc', 'either', 'lung', 'smoke', 'tub', 'xray'},\n",
       " {'bronc', 'dysp', 'either', 'lung', 'smoke', 'tub', 'xray'},\n",
       " {'asia', 'bronc', 'dysp', 'either', 'lung', 'smoke', 'tub'},\n",
       " {'asia', 'bronc', 'dysp', 'either', 'lung', 'smoke', 'tub', 'xray'}]"
      ]
     },
     "execution_count": 4,
     "metadata": {},
     "output_type": "execute_result"
    }
   ],
   "source": [
    "valid_combination = []\n",
    "for r in range(1, len(G.nodes)):\n",
    "    for comb in combinations(set(G.nodes) - {'lung'}, r):\n",
    "        if is_valid_subset(G, set(comb) | {'lung'}):\n",
    "            valid_combination.append(set(comb) | {'lung'})\n",
    "valid_combination"
   ]
  },
  {
   "cell_type": "code",
   "execution_count": 5,
   "metadata": {},
   "outputs": [
    {
     "data": {
      "text/plain": [
       "[<TabularCPD representing P(asia:2) at 0x14fbf4e7ac0>,\n",
       " <TabularCPD representing P(tub:2 | asia:2) at 0x14fbf4e77f0>,\n",
       " <TabularCPD representing P(smoke:2) at 0x14fbf4e7a60>,\n",
       " <TabularCPD representing P(lung:2) at 0x14fbf4e7580>,\n",
       " <TabularCPD representing P(bronc:2 | smoke:2) at 0x14fbf4e7a00>,\n",
       " <TabularCPD representing P(either:2 | lung:2, tub:2) at 0x14fbf4e7dc0>,\n",
       " <TabularCPD representing P(xray:2) at 0x14fbf4e7c10>,\n",
       " <TabularCPD representing P(dysp:2) at 0x14fbf4e73a0>]"
      ]
     },
     "execution_count": 5,
     "metadata": {},
     "output_type": "execute_result"
    }
   ],
   "source": [
    "def intervention(bn, G, subset):\n",
    "    other = set(G.nodes) - subset\n",
    "    \n",
    "    for node in other:\n",
    "        parents = set(G.predecessors(node))\n",
    "        parent_included = parents.intersection(subset)\n",
    "        if len(parent_included) > 0:\n",
    "            bn = bn.do(node)\n",
    "\n",
    "        childs = set(G.successors(node))\n",
    "        child_included = childs.intersection(subset)\n",
    "        if len(child_included) > 0:\n",
    "            bn = bn.do(child_included)\n",
    "            \n",
    "    return bn\n",
    "    \n",
    "bn = intervention(asia_bn, G, valid_combination[4])\n",
    "bn.get_cpds()"
   ]
  },
  {
   "cell_type": "code",
   "execution_count": 6,
   "metadata": {},
   "outputs": [
    {
     "data": {
      "image/png": "[encoded data removed]",
      "text/plain": [
       "<Figure size 640x480 with 1 Axes>"
      ]
     },
     "metadata": {},
     "output_type": "display_data"
    }
   ],
   "source": [
    "import matplotlib.pyplot as plt\n",
    "nx.draw(nx.DiGraph(list(bn.edges)), with_labels=True)\n",
    "plt.show()"
   ]
  },
  {
   "cell_type": "markdown",
   "metadata": {},
   "source": [
    "# Shapley value feature i (individual data point)"
   ]
  },
  {
   "cell_type": "code",
   "execution_count": 1219,
   "metadata": {},
   "outputs": [],
   "source": [
    "def intervention(bn, G, subset):\n",
    "    print(subset)\n",
    "    other = set(G.nodes) - subset\n",
    "    \n",
    "    for node in other:\n",
    "        parents = set(G.predecessors(node))\n",
    "        parent_included = parents.intersection(subset)\n",
    "        if len(parent_included) > 0:\n",
    "            bn = bn.do(node)\n",
    "\n",
    "        childs = set(G.successors(node))\n",
    "        child_included = childs.intersection(subset)\n",
    "        if len(child_included) > 0:\n",
    "            bn = bn.do(child_included)\n",
    "            \n",
    "    return bn\n",
    "    \n",
    "# bn = intervention(asia_bn, G, valid_combination[4])"
   ]
  },
  {
   "cell_type": "markdown",
   "metadata": {},
   "source": [
    "### Approximate Shapley estimation for single feature value\n",
    "\n",
    "https://christophm.github.io/interpretable-ml-book/shapley.html"
   ]
  },
  {
   "cell_type": "code",
   "execution_count": 821,
   "metadata": {},
   "outputs": [
    {
     "name": "stdout",
     "output_type": "stream",
     "text": [
      "[4, 1, 0, 2, 3]\n"
     ]
    }
   ],
   "source": [
    "\n",
    "def random_subset(input_list):\n",
    "    length = len(input_list)\n",
    "    # Randomly decide the number of elements in the subset\n",
    "    n = random.randint(0, length)\n",
    "    # Sample 'n' elements from the list\n",
    "    subset = random.sample(input_list, n)\n",
    "    return subset\n",
    "\n",
    "# Example usage:\n",
    "input_list = [0, 1, 2, 3, 4]\n",
    "subset = random_subset(input_list)\n",
    "print(subset)"
   ]
  },
  {
   "cell_type": "code",
   "execution_count": 1127,
   "metadata": {},
   "outputs": [
    {
     "data": {
      "text/plain": [
       "[{'lung', 'smoke'},\n",
       " {'either', 'lung', 'tub'},\n",
       " {'bronc', 'lung', 'smoke'},\n",
       " {'either', 'lung', 'tub', 'xray'},\n",
       " {'asia', 'either', 'lung', 'tub'},\n",
       " {'either', 'lung', 'smoke', 'tub'},\n",
       " {'asia', 'either', 'lung', 'tub', 'xray'},\n",
       " {'either', 'lung', 'smoke', 'tub', 'xray'},\n",
       " {'asia', 'either', 'lung', 'smoke', 'tub'},\n",
       " {'bronc', 'dysp', 'either', 'lung', 'tub'},\n",
       " {'bronc', 'either', 'lung', 'smoke', 'tub'},\n",
       " {'asia', 'either', 'lung', 'smoke', 'tub', 'xray'},\n",
       " {'bronc', 'dysp', 'either', 'lung', 'tub', 'xray'},\n",
       " {'bronc', 'either', 'lung', 'smoke', 'tub', 'xray'},\n",
       " {'asia', 'bronc', 'dysp', 'either', 'lung', 'tub'},\n",
       " {'asia', 'bronc', 'either', 'lung', 'smoke', 'tub'},\n",
       " {'bronc', 'dysp', 'either', 'lung', 'smoke', 'tub'},\n",
       " {'asia', 'bronc', 'dysp', 'either', 'lung', 'tub', 'xray'},\n",
       " {'asia', 'bronc', 'either', 'lung', 'smoke', 'tub', 'xray'},\n",
       " {'bronc', 'dysp', 'either', 'lung', 'smoke', 'tub', 'xray'},\n",
       " {'asia', 'bronc', 'dysp', 'either', 'lung', 'smoke', 'tub'},\n",
       " {'asia', 'bronc', 'dysp', 'either', 'lung', 'smoke', 'tub', 'xray'}]"
      ]
     },
     "execution_count": 1127,
     "metadata": {},
     "output_type": "execute_result"
    }
   ],
   "source": [
    "valid_combination"
   ]
  },
  {
   "cell_type": "markdown",
   "metadata": {},
   "source": [
    "# Checkpoint here!"
   ]
  },
  {
   "cell_type": "code",
   "execution_count": 1326,
   "metadata": {},
   "outputs": [
    {
     "name": "stdout",
     "output_type": "stream",
     "text": [
      "Index(['smoke', 'asia', 'tub', 'either', 'xray', 'bronc', 'dysp'], dtype='object')\n",
      "{0} set()\n",
      "{'smoke'} set()\n",
      "w/ j valid\n",
      "{'lung', 'smoke'} {'smoke'}\n",
      "{'lung', 'smoke'}\n",
      "[<TabularCPD representing P(asia:2) at 0x14fd3a84a90>, <TabularCPD representing P(tub:2 | asia:2) at 0x14fd3a84f40>, <TabularCPD representing P(smoke:2) at 0x14fd3a842b0>, <TabularCPD representing P(lung:2 | smoke:2) at 0x14fd3a84b50>, <TabularCPD representing P(bronc:2) at 0x14fd3a84670>, <TabularCPD representing P(either:2) at 0x14fd3a84640>, <TabularCPD representing P(xray:2 | either:2) at 0x14fd3a846a0>, <TabularCPD representing P(dysp:2 | bronc:2, either:2) at 0x14fd3a844c0>]\n",
      "+-----------+-------------+\n",
      "| lung      |   phi(lung) |\n",
      "+===========+=============+\n",
      "| lung(no)  |      0.8962 |\n",
      "+-----------+-------------+\n",
      "| lung(yes) |      0.1038 |\n",
      "+-----------+-------------+\n",
      "{'smoke': 'yes'}\n",
      "\n",
      "\n",
      "{'lung'}\n",
      "[<TabularCPD representing P(asia:2) at 0x14fd3a9f700>, <TabularCPD representing P(tub:2 | asia:2) at 0x14fd3a9f0a0>, <TabularCPD representing P(smoke:2) at 0x14fd3a9f2e0>, <TabularCPD representing P(lung:2) at 0x14fd3a9f6d0>, <TabularCPD representing P(bronc:2 | smoke:2) at 0x14fd3a9fac0>, <TabularCPD representing P(either:2) at 0x14fd3a9f910>, <TabularCPD representing P(xray:2 | either:2) at 0x14fd3a9f040>, <TabularCPD representing P(dysp:2 | bronc:2, either:2) at 0x14fd3a9fd00>]\n"
     ]
    }
   ],
   "source": [
    "# Output: Shapley value for the value of the j-th feature\n",
    "# Required: Number of iterations M, instance of interest x, \n",
    "# feature index j, data matrix X, and machine learning model f\n",
    "\n",
    "# iterations\n",
    "M = 100\n",
    "feature_of_interest = 'smoke'\n",
    "target = 'lung'\n",
    "j = dataset.drop(columns=['lung']).columns.tolist().index(feature_of_interest)\n",
    "columns = dataset.drop(columns=['lung']).columns\n",
    "n_features = len(dataset.drop(columns=['lung']).columns)\n",
    "feature_idxs = list(range(n_features))\n",
    "feature_idxs.remove(j)\n",
    "\n",
    "sample_idx = 0\n",
    "# this is datapoint we interested in\n",
    "x = dataset.iloc[sample_idx]\n",
    "print(columns)\n",
    "\n",
    "for m in range(M):\n",
    "    # in BN, we cant just randomize feature to know the absence of feature,\n",
    "    # however we have to delete the arcs of the coresponding nodes\n",
    "    \n",
    "    # x_j_idx = random.sample(feature_idxs, min(max(int(0.2*n_features), random.choice(feature_idxs)), int(0.8*n_features))) + [j]\n",
    "    x_j_idx = set(random_subset(feature_idxs) + [j])\n",
    "    # x_idx = [idx for idx in feature_idxs if idx not in x_idx]\n",
    "    \n",
    "    x_idx = set(x_j_idx) - set([j])\n",
    "    \n",
    "    print(x_j_idx, x_idx)\n",
    "    # print(columns.tolist().index())\n",
    "    j_cols = set([columns[c] for c in x_j_idx])\n",
    "    cols = set([columns[c] for c in x_idx])\n",
    "    print(j_cols, cols)\n",
    "    \n",
    "    # check j_cols is a valid subset or not\n",
    "    j_model_valid = False\n",
    "    for comb in valid_combination:\n",
    "        # print(comb)\n",
    "        if (comb == j_cols | {target}):\n",
    "            print('w/ j valid')\n",
    "            print(comb, j_cols)\n",
    "            j_model_valid = True\n",
    "            \n",
    "    model_valid = False\n",
    "    for comb in valid_combination:\n",
    "        # print(comb)\n",
    "        if (comb == cols | {target}):\n",
    "            print('w.o j valid')\n",
    "            print(comb, cols)\n",
    "            model_valid = True\n",
    "    \n",
    "    p_j = 0\n",
    "    p = 0\n",
    "    # calculate marginal contribution\n",
    "    # set model with j\n",
    "    # assume all model valid (evaluate later)\n",
    "    # if j_model_valid:\n",
    "    j_model_bn = intervention(bn, G, j_cols | set([target]))\n",
    "    print(j_model_bn.get_cpds())\n",
    "    j_model_infer = VariableElimination(j_model_bn)\n",
    "    j_evidence = {}\n",
    "    for j_col in j_cols:\n",
    "        j_evidence[j_col] = x[j_col]\n",
    "    j_q = j_model_infer.query(variables=[target], evidence=j_evidence, joint=True)\n",
    "    print(j_q)\n",
    "    print(j_evidence)\n",
    "    print()\n",
    "    \n",
    "    print()\n",
    "        \n",
    "    # if model_valid:\n",
    "    model_bn = intervention(bn, G, cols | set([target]))\n",
    "    print(model_bn.get_cpds())\n",
    "        \n",
    "    break\n",
    "\n",
    "# BUG\n",
    "# fix the calculation of the inference (it doesn't give the good expected value)\n",
    "# Investigate each feature in respect to the prediction value"
   ]
  },
  {
   "cell_type": "code",
   "execution_count": 1301,
   "metadata": {},
   "outputs": [
    {
     "name": "stdout",
     "output_type": "stream",
     "text": [
      "[<TabularCPD representing P(asia:2) at 0x14fd388d5e0>, <TabularCPD representing P(tub:2 | asia:2) at 0x14fd388d160>, <TabularCPD representing P(smoke:2) at 0x14fd388d520>, <TabularCPD representing P(lung:2 | smoke:2) at 0x14fd388d9a0>, <TabularCPD representing P(bronc:2) at 0x14fd388d850>, <TabularCPD representing P(either:2) at 0x14fd388d430>, <TabularCPD representing P(xray:2 | either:2) at 0x14fd388d4f0>, <TabularCPD representing P(dysp:2 | bronc:2, either:2) at 0x14fd388d730>]\n",
      "+-----------+-------------+\n",
      "| lung      |   phi(lung) |\n",
      "+===========+=============+\n",
      "| lung(no)  |      0.8962 |\n",
      "+-----------+-------------+\n",
      "| lung(yes) |      0.1038 |\n",
      "+-----------+-------------+\n",
      "{'smoke': 'yes'}\n"
     ]
    }
   ],
   "source": [
    "print(j_model_bn.get_cpds())\n",
    "print(j_q)\n",
    "print(j_evidence)"
   ]
  },
  {
   "cell_type": "code",
   "execution_count": 1253,
   "metadata": {},
   "outputs": [
    {
     "name": "stdout",
     "output_type": "stream",
     "text": [
      "{'either', 'xray', 'bronc', 'dysp', 'asia', 'smoke', 'lung', 'tub'}\n"
     ]
    },
    {
     "data": {
      "text/plain": [
       "[<TabularCPD representing P(asia:2) at 0x14fd070d520>,\n",
       " <TabularCPD representing P(tub:2 | asia:2) at 0x14fd070d550>,\n",
       " <TabularCPD representing P(smoke:2) at 0x14fd070d2e0>,\n",
       " <TabularCPD representing P(lung:2 | smoke:2) at 0x14fd070d430>,\n",
       " <TabularCPD representing P(bronc:2 | smoke:2) at 0x14fd070d310>,\n",
       " <TabularCPD representing P(either:2 | lung:2, tub:2) at 0x14fd070d3a0>,\n",
       " <TabularCPD representing P(xray:2 | either:2) at 0x14fd070d4c0>,\n",
       " <TabularCPD representing P(dysp:2 | bronc:2, either:2) at 0x14fd070d5b0>]"
      ]
     },
     "execution_count": 1253,
     "metadata": {},
     "output_type": "execute_result"
    }
   ],
   "source": [
    "def intervention(bn, G, subset):\n",
    "    print(subset)\n",
    "    other = set(G.nodes) - subset\n",
    "    \n",
    "    for node in other:\n",
    "        parents = set(G.predecessors(node))\n",
    "        parent_included = parents.intersection(subset)\n",
    "        if len(parent_included) > 0:\n",
    "            bn = bn.do(node)\n",
    "\n",
    "        childs = set(G.successors(node))\n",
    "        child_included = childs.intersection(subset)\n",
    "        if len(child_included) > 0:\n",
    "            bn = bn.do(child_included)\n",
    "            \n",
    "    return bn\n",
    "    \n",
    "bn = intervention(asia_bn, G, {'either', 'xray', 'smoke', 'lung', 'dysp', 'tub', 'bronc', 'asia'})\n",
    "bn.get_cpds()"
   ]
  },
  {
   "cell_type": "code",
   "execution_count": null,
   "metadata": {},
   "outputs": [],
   "source": []
  },
  {
   "cell_type": "code",
   "execution_count": null,
   "metadata": {},
   "outputs": [],
   "source": []
  }
 ],
 "metadata": {
  "kernelspec": {
   "display_name": "xai2",
   "language": "python",
   "name": "python3"
  },
  "language_info": {
   "codemirror_mode": {
    "name": "ipython",
    "version": 3
   },
   "file_extension": ".py",
   "mimetype": "text/x-python",
   "name": "python",
   "nbconvert_exporter": "python",
   "pygments_lexer": "ipython3",
   "version": "3.9.18"
  }
 },
 "nbformat": 4,
 "nbformat_minor": 2
}
